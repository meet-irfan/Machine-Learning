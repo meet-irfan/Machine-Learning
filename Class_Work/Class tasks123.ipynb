{
 "cells": [
  {
   "cell_type": "markdown",
   "id": "4b8905df",
   "metadata": {},
   "source": [
    "Task 1: Logistic Regression\n",
    "Task Description: Using the famous Iris dataset, train a logistic regression model to classify flowers into the species 'setosa' and 'not-setosa'."
   ]
  },
  {
   "cell_type": "code",
   "execution_count": 14,
   "id": "cd48c076",
   "metadata": {},
   "outputs": [
    {
     "name": "stdout",
     "output_type": "stream",
     "text": [
      "Accuracy: 1.00\n",
      "['spam', 'ham', 'ham', 'spam']\n",
      "  (0, 12)\t1\n",
      "  (0, 4)\t1\n",
      "  (0, 10)\t1\n",
      "  (1, 3)\t1\n",
      "  (1, 8)\t1\n",
      "  (1, 2)\t1\n",
      "  (2, 7)\t1\n",
      "  (2, 9)\t1\n",
      "  (2, 1)\t1\n",
      "  (2, 0)\t1\n",
      "  (3, 6)\t1\n",
      "  (3, 5)\t1\n",
      "  (3, 11)\t1\n",
      "Accuracy: 1.00\n"
     ]
    }
   ],
   "source": [
    "from sklearn.datasets import load_iris\n",
    "from sklearn.linear_model import LogisticRegression\n",
    "from sklearn.model_selection import train_test_split\n",
    "from sklearn.metrics import accuracy_score\n",
    "\n",
    "\n",
    "\n",
    "# Load the Iris dataset\n",
    "iris = load_iris()\n",
    "\n",
    "# Convert the target to binary: 'setosa' or 'not-setosa'\n",
    "# We will consider 'setosa' as the positive class (1) and the other two species as the negative class (0)\n",
    "target = (iris.target == 0).astype(int)\n",
    "\n",
    "# Split the data into training and testing sets\n",
    "X_train, X_test, y_train, y_test = train_test_split(iris.data, target, test_size=0.2, random_state=42)\n",
    "\n",
    "\n",
    "# Initialize a logistic regression classifier\n",
    "clf = LogisticRegression()\n",
    "\n",
    "# Train (fit) the classifier on the training data\n",
    "clf.fit(X_train, y_train)\n",
    "\n",
    "# Predict on the test data\n",
    "y_pred = clf.predict(X_test)\n",
    "\n",
    "\n",
    "\n",
    "# Calculate and print the accuracy\n",
    "accuracy = accuracy_score(y_test, y_pred)\n",
    "print(f\"Accuracy: {accuracy:.2f}\")\n",
    "\n",
    "print(y)\n",
    "print(X)\n",
    "print(f\"Accuracy: {accuracy:.2f}\")\n"
   ]
  },
  {
   "cell_type": "markdown",
   "id": "2c7c558b",
   "metadata": {},
   "source": [
    "Task 2: Naïve Bayes\n",
    "Task Description: Implement a simple text classification task to classify messages as 'spam' or 'ham' using the Naïve Bayes classifier."
   ]
  },
  {
   "cell_type": "code",
   "execution_count": 5,
   "id": "14ec0724",
   "metadata": {},
   "outputs": [
    {
     "name": "stdout",
     "output_type": "stream",
     "text": [
      "Accuracy: 0.00\n"
     ]
    }
   ],
   "source": [
    "from sklearn.feature_extraction.text import CountVectorizer\n",
    "from sklearn.naive_bayes import MultinomialNB\n",
    "from sklearn.model_selection import train_test_split\n",
    "from sklearn.metrics import accuracy_score\n",
    "\n",
    "# Sample data\n",
    "messages = [\"win cash now\", \"call me back\", \"important meeting at 10\", \"get free tickets\"]\n",
    "labels = [\"spam\", \"ham\", \"ham\", \"spam\"]\n",
    "\n",
    "# Convert text data to feature vectors\n",
    "vectorizer = CountVectorizer()\n",
    "X = vectorizer.fit_transform(messages)\n",
    "y = labels\n",
    "\n",
    "# Split the data\n",
    "\n",
    "# Initialize the Naive Bayes classifier\n",
    "\n",
    "# TODO: Fit the classifier to the training data\n",
    "# TODO: Predict on the test data\n",
    "# TODO: Calculate and print the accuracy\n",
    "# Fit the classifier to the training data\n",
    "\n",
    "# Predict on the test data\n",
    "\n",
    "# Calculate and print the accuracy\n",
    "from sklearn.feature_extraction.text import CountVectorizer\n",
    "from sklearn.naive_bayes import MultinomialNB\n",
    "from sklearn.model_selection import train_test_split\n",
    "from sklearn.metrics import accuracy_score\n",
    "\n",
    "# Sample data\n",
    "messages = [\"win cash now\", \"call me back\", \"important meeting at 10\", \"get free tickets\"]\n",
    "labels = [\"spam\", \"ham\", \"ham\", \"spam\"]\n",
    "\n",
    "# Convert text data to feature vectors\n",
    "vectorizer = CountVectorizer()\n",
    "X = vectorizer.fit_transform(messages)\n",
    "y = labels\n",
    "\n",
    "# Split the data into training and testing sets\n",
    "X_train, X_test, y_train, y_test = train_test_split(X, y, test_size=0.2, random_state=42)\n",
    "\n",
    "# Initialize the Naive Bayes classifier\n",
    "clf = MultinomialNB()\n",
    "\n",
    "# Fit the classifier to the training data\n",
    "clf.fit(X_train, y_train)\n",
    "\n",
    "# Predict on the test data\n",
    "y_pred = clf.predict(X_test)\n",
    "\n",
    "# Calculate and print the accuracy\n",
    "accuracy = accuracy_score(y_test, y_pred)\n",
    "print(f\"Accuracy: {accuracy:.2f}\")\n",
    "\n"
   ]
  },
  {
   "cell_type": "code",
   "execution_count": null,
   "id": "764a2756",
   "metadata": {},
   "outputs": [],
   "source": []
  },
  {
   "cell_type": "code",
   "execution_count": null,
   "id": "8cc7d0df",
   "metadata": {},
   "outputs": [],
   "source": []
  }
 ],
 "metadata": {
  "kernelspec": {
   "display_name": "Python 3 (ipykernel)",
   "language": "python",
   "name": "python3"
  },
  "language_info": {
   "codemirror_mode": {
    "name": "ipython",
    "version": 3
   },
   "file_extension": ".py",
   "mimetype": "text/x-python",
   "name": "python",
   "nbconvert_exporter": "python",
   "pygments_lexer": "ipython3",
   "version": "3.11.4"
  }
 },
 "nbformat": 4,
 "nbformat_minor": 5
}
